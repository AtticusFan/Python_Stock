{
 "cells": [
  {
   "cell_type": "code",
   "execution_count": 6,
   "id": "6391cbc2",
   "metadata": {},
   "outputs": [
    {
     "data": {
      "text/plain": [
       "2330    0.002890\n",
       "2454    0.003844\n",
       "2603    0.009305\n",
       "2379    0.003172\n",
       "dtype: float64"
      ]
     },
     "execution_count": 6,
     "metadata": {},
     "output_type": "execute_result"
    }
   ],
   "source": [
    "import numpy as np\n",
    "import pandas as pd\n",
    "import pandas_datareader as pdr\n",
    "import matplotlib.pyplot as plt\n",
    "%matplotlib inline\n",
    "import seaborn as sns\n",
    "import datetime as datetime\n",
    "#抓取股票資料\n",
    "start = datetime.datetime(2020,5,1)\n",
    "df_2330 = pdr.DataReader('2330.TW', 'yahoo', start=start)\n",
    "df_2454 = pdr.DataReader('2454.TW', 'yahoo', start=start)\n",
    "df_2603 = pdr.DataReader('2603.TW', 'yahoo', start=start)\n",
    "df_2379 = pdr.DataReader('2379.TW', 'yahoo', start=start)\n",
    "#日收益率平均\n",
    "df_total.pct_change().mean()\n"
   ]
  },
  {
   "cell_type": "code",
   "execution_count": 4,
   "id": "8507e92c",
   "metadata": {},
   "outputs": [
    {
     "data": {
      "text/html": [
       "<div>\n",
       "<style scoped>\n",
       "    .dataframe tbody tr th:only-of-type {\n",
       "        vertical-align: middle;\n",
       "    }\n",
       "\n",
       "    .dataframe tbody tr th {\n",
       "        vertical-align: top;\n",
       "    }\n",
       "\n",
       "    .dataframe thead th {\n",
       "        text-align: right;\n",
       "    }\n",
       "</style>\n",
       "<table border=\"1\" class=\"dataframe\">\n",
       "  <thead>\n",
       "    <tr style=\"text-align: right;\">\n",
       "      <th></th>\n",
       "      <th>2330</th>\n",
       "      <th>2454</th>\n",
       "      <th>2603</th>\n",
       "      <th>2379</th>\n",
       "    </tr>\n",
       "    <tr>\n",
       "      <th>Date</th>\n",
       "      <th></th>\n",
       "      <th></th>\n",
       "      <th></th>\n",
       "      <th></th>\n",
       "    </tr>\n",
       "  </thead>\n",
       "  <tbody>\n",
       "    <tr>\n",
       "      <th>2020-05-04</th>\n",
       "      <td>288.458801</td>\n",
       "      <td>392.328918</td>\n",
       "      <td>10.75</td>\n",
       "      <td>235.022278</td>\n",
       "    </tr>\n",
       "    <tr>\n",
       "      <th>2020-05-05</th>\n",
       "      <td>288.947723</td>\n",
       "      <td>394.292999</td>\n",
       "      <td>10.65</td>\n",
       "      <td>235.022278</td>\n",
       "    </tr>\n",
       "    <tr>\n",
       "      <th>2020-05-06</th>\n",
       "      <td>289.436615</td>\n",
       "      <td>400.676331</td>\n",
       "      <td>10.55</td>\n",
       "      <td>236.479019</td>\n",
       "    </tr>\n",
       "    <tr>\n",
       "      <th>2020-05-07</th>\n",
       "      <td>290.903320</td>\n",
       "      <td>403.622467</td>\n",
       "      <td>10.60</td>\n",
       "      <td>242.306030</td>\n",
       "    </tr>\n",
       "    <tr>\n",
       "      <th>2020-05-08</th>\n",
       "      <td>290.903320</td>\n",
       "      <td>404.113495</td>\n",
       "      <td>10.55</td>\n",
       "      <td>243.277191</td>\n",
       "    </tr>\n",
       "  </tbody>\n",
       "</table>\n",
       "</div>"
      ],
      "text/plain": [
       "                  2330        2454   2603        2379\n",
       "Date                                                 \n",
       "2020-05-04  288.458801  392.328918  10.75  235.022278\n",
       "2020-05-05  288.947723  394.292999  10.65  235.022278\n",
       "2020-05-06  289.436615  400.676331  10.55  236.479019\n",
       "2020-05-07  290.903320  403.622467  10.60  242.306030\n",
       "2020-05-08  290.903320  404.113495  10.55  243.277191"
      ]
     },
     "execution_count": 4,
     "metadata": {},
     "output_type": "execute_result"
    }
   ],
   "source": [
    "#結合四個股票\n",
    "df_total = pd.concat([df_2330['Adj Close'],df_2454['Adj Close'],df_2603['Adj Close'],df_2379['Adj Close']], axis=1)\n",
    "df_total.columns=['2330', '2454', '2603', '2379']\n",
    "df_total.head()"
   ]
  },
  {
   "cell_type": "code",
   "execution_count": 7,
   "id": "f4b665b0",
   "metadata": {},
   "outputs": [
    {
     "data": {
      "text/html": [
       "<div>\n",
       "<style scoped>\n",
       "    .dataframe tbody tr th:only-of-type {\n",
       "        vertical-align: middle;\n",
       "    }\n",
       "\n",
       "    .dataframe tbody tr th {\n",
       "        vertical-align: top;\n",
       "    }\n",
       "\n",
       "    .dataframe thead th {\n",
       "        text-align: right;\n",
       "    }\n",
       "</style>\n",
       "<table border=\"1\" class=\"dataframe\">\n",
       "  <thead>\n",
       "    <tr style=\"text-align: right;\">\n",
       "      <th></th>\n",
       "      <th>2330</th>\n",
       "      <th>2454</th>\n",
       "      <th>2603</th>\n",
       "      <th>2379</th>\n",
       "    </tr>\n",
       "  </thead>\n",
       "  <tbody>\n",
       "    <tr>\n",
       "      <th>2330</th>\n",
       "      <td>1.000000</td>\n",
       "      <td>0.462643</td>\n",
       "      <td>0.075574</td>\n",
       "      <td>0.475021</td>\n",
       "    </tr>\n",
       "    <tr>\n",
       "      <th>2454</th>\n",
       "      <td>0.462643</td>\n",
       "      <td>1.000000</td>\n",
       "      <td>0.050993</td>\n",
       "      <td>0.522608</td>\n",
       "    </tr>\n",
       "    <tr>\n",
       "      <th>2603</th>\n",
       "      <td>0.075574</td>\n",
       "      <td>0.050993</td>\n",
       "      <td>1.000000</td>\n",
       "      <td>0.071349</td>\n",
       "    </tr>\n",
       "    <tr>\n",
       "      <th>2379</th>\n",
       "      <td>0.475021</td>\n",
       "      <td>0.522608</td>\n",
       "      <td>0.071349</td>\n",
       "      <td>1.000000</td>\n",
       "    </tr>\n",
       "  </tbody>\n",
       "</table>\n",
       "</div>"
      ],
      "text/plain": [
       "          2330      2454      2603      2379\n",
       "2330  1.000000  0.462643  0.075574  0.475021\n",
       "2454  0.462643  1.000000  0.050993  0.522608\n",
       "2603  0.075574  0.050993  1.000000  0.071349\n",
       "2379  0.475021  0.522608  0.071349  1.000000"
      ]
     },
     "execution_count": 7,
     "metadata": {},
     "output_type": "execute_result"
    }
   ],
   "source": [
    "#日收益率相關分析\n",
    "df_total.pct_change().corr()"
   ]
  },
  {
   "cell_type": "code",
   "execution_count": 10,
   "id": "e4d5bf6b",
   "metadata": {},
   "outputs": [
    {
     "name": "stdout",
     "output_type": "stream",
     "text": [
      "股票投資比重: [0.3  0.2  0.25 0.25]\n",
      "投資組合的預期報酬: 1.0905260346039403\n",
      "預期波動性: 0.284008678608655\n",
      "夏普指數: 3.8397630662076083\n"
     ]
    }
   ],
   "source": [
    "#對數收益率\n",
    "log_ret = np.log(df_total/df_total.shift(1))\n",
    "#股票投資比重\n",
    "weight = np.array([0.3, 0.2, 0.25, 0.25])\n",
    "print('股票投資比重:', weight)\n",
    "#平均日收益率\n",
    "exp_ret = np.sum((log_ret.mean() * weight )* 252)\n",
    "print('投資組合的預期報酬:', exp_ret)\n",
    "#波動性\n",
    "exp_vol = np.sqrt(np.dot(weight.T, np.dot(log_ret.cov()*252, weight)))\n",
    "print('預期波動性:',exp_vol)\n",
    "#夏普指數\n",
    "SR = exp_ret/exp_vol\n",
    "print('夏普指數:', SR)"
   ]
  },
  {
   "cell_type": "code",
   "execution_count": 12,
   "id": "71d1a064",
   "metadata": {},
   "outputs": [
    {
     "data": {
      "text/html": [
       "<div>\n",
       "<style scoped>\n",
       "    .dataframe tbody tr th:only-of-type {\n",
       "        vertical-align: middle;\n",
       "    }\n",
       "\n",
       "    .dataframe tbody tr th {\n",
       "        vertical-align: top;\n",
       "    }\n",
       "\n",
       "    .dataframe thead th {\n",
       "        text-align: right;\n",
       "    }\n",
       "</style>\n",
       "<table border=\"1\" class=\"dataframe\">\n",
       "  <thead>\n",
       "    <tr style=\"text-align: right;\">\n",
       "      <th></th>\n",
       "      <th>2330</th>\n",
       "      <th>2454</th>\n",
       "      <th>2603</th>\n",
       "      <th>2379</th>\n",
       "    </tr>\n",
       "    <tr>\n",
       "      <th>Date</th>\n",
       "      <th></th>\n",
       "      <th></th>\n",
       "      <th></th>\n",
       "      <th></th>\n",
       "    </tr>\n",
       "  </thead>\n",
       "  <tbody>\n",
       "    <tr>\n",
       "      <th>2020-05-04</th>\n",
       "      <td>NaN</td>\n",
       "      <td>NaN</td>\n",
       "      <td>NaN</td>\n",
       "      <td>NaN</td>\n",
       "    </tr>\n",
       "    <tr>\n",
       "      <th>2020-05-05</th>\n",
       "      <td>0.001695</td>\n",
       "      <td>0.005006</td>\n",
       "      <td>-0.009302</td>\n",
       "      <td>0.000000</td>\n",
       "    </tr>\n",
       "    <tr>\n",
       "      <th>2020-05-06</th>\n",
       "      <td>0.001692</td>\n",
       "      <td>0.016189</td>\n",
       "      <td>-0.009390</td>\n",
       "      <td>0.006198</td>\n",
       "    </tr>\n",
       "    <tr>\n",
       "      <th>2020-05-07</th>\n",
       "      <td>0.005067</td>\n",
       "      <td>0.007353</td>\n",
       "      <td>0.004739</td>\n",
       "      <td>0.024641</td>\n",
       "    </tr>\n",
       "    <tr>\n",
       "      <th>2020-05-08</th>\n",
       "      <td>0.000000</td>\n",
       "      <td>0.001217</td>\n",
       "      <td>-0.004717</td>\n",
       "      <td>0.004008</td>\n",
       "    </tr>\n",
       "  </tbody>\n",
       "</table>\n",
       "</div>"
      ],
      "text/plain": [
       "                2330      2454      2603      2379\n",
       "Date                                              \n",
       "2020-05-04       NaN       NaN       NaN       NaN\n",
       "2020-05-05  0.001695  0.005006 -0.009302  0.000000\n",
       "2020-05-06  0.001692  0.016189 -0.009390  0.006198\n",
       "2020-05-07  0.005067  0.007353  0.004739  0.024641\n",
       "2020-05-08  0.000000  0.001217 -0.004717  0.004008"
      ]
     },
     "execution_count": 12,
     "metadata": {},
     "output_type": "execute_result"
    }
   ],
   "source": [
    "#算術平均收益率\n",
    "df_total.pct_change().head()"
   ]
  },
  {
   "cell_type": "code",
   "execution_count": 13,
   "id": "af3328a3",
   "metadata": {},
   "outputs": [
    {
     "data": {
      "text/html": [
       "<div>\n",
       "<style scoped>\n",
       "    .dataframe tbody tr th:only-of-type {\n",
       "        vertical-align: middle;\n",
       "    }\n",
       "\n",
       "    .dataframe tbody tr th {\n",
       "        vertical-align: top;\n",
       "    }\n",
       "\n",
       "    .dataframe thead th {\n",
       "        text-align: right;\n",
       "    }\n",
       "</style>\n",
       "<table border=\"1\" class=\"dataframe\">\n",
       "  <thead>\n",
       "    <tr style=\"text-align: right;\">\n",
       "      <th></th>\n",
       "      <th>2330</th>\n",
       "      <th>2454</th>\n",
       "      <th>2603</th>\n",
       "      <th>2379</th>\n",
       "    </tr>\n",
       "    <tr>\n",
       "      <th>Date</th>\n",
       "      <th></th>\n",
       "      <th></th>\n",
       "      <th></th>\n",
       "      <th></th>\n",
       "    </tr>\n",
       "  </thead>\n",
       "  <tbody>\n",
       "    <tr>\n",
       "      <th>2020-05-04</th>\n",
       "      <td>NaN</td>\n",
       "      <td>NaN</td>\n",
       "      <td>NaN</td>\n",
       "      <td>NaN</td>\n",
       "    </tr>\n",
       "    <tr>\n",
       "      <th>2020-05-05</th>\n",
       "      <td>0.001694</td>\n",
       "      <td>0.004994</td>\n",
       "      <td>-0.009346</td>\n",
       "      <td>0.000000</td>\n",
       "    </tr>\n",
       "    <tr>\n",
       "      <th>2020-05-06</th>\n",
       "      <td>0.001691</td>\n",
       "      <td>0.016060</td>\n",
       "      <td>-0.009434</td>\n",
       "      <td>0.006179</td>\n",
       "    </tr>\n",
       "    <tr>\n",
       "      <th>2020-05-07</th>\n",
       "      <td>0.005055</td>\n",
       "      <td>0.007326</td>\n",
       "      <td>0.004728</td>\n",
       "      <td>0.024342</td>\n",
       "    </tr>\n",
       "    <tr>\n",
       "      <th>2020-05-08</th>\n",
       "      <td>0.000000</td>\n",
       "      <td>0.001216</td>\n",
       "      <td>-0.004728</td>\n",
       "      <td>0.004000</td>\n",
       "    </tr>\n",
       "  </tbody>\n",
       "</table>\n",
       "</div>"
      ],
      "text/plain": [
       "                2330      2454      2603      2379\n",
       "Date                                              \n",
       "2020-05-04       NaN       NaN       NaN       NaN\n",
       "2020-05-05  0.001694  0.004994 -0.009346  0.000000\n",
       "2020-05-06  0.001691  0.016060 -0.009434  0.006179\n",
       "2020-05-07  0.005055  0.007326  0.004728  0.024342\n",
       "2020-05-08  0.000000  0.001216 -0.004728  0.004000"
      ]
     },
     "execution_count": 13,
     "metadata": {},
     "output_type": "execute_result"
    }
   ],
   "source": [
    "#對數收益率\n",
    "log_ret = np.log(df_total/df_total.shift(1))\n",
    "log_ret.head()"
   ]
  },
  {
   "cell_type": "code",
   "execution_count": 14,
   "id": "cd5fe8d5",
   "metadata": {},
   "outputs": [
    {
     "data": {
      "text/plain": [
       "array([[<AxesSubplot:title={'center':'2330'}>,\n",
       "        <AxesSubplot:title={'center':'2454'}>],\n",
       "       [<AxesSubplot:title={'center':'2603'}>,\n",
       "        <AxesSubplot:title={'center':'2379'}>]], dtype=object)"
      ]
     },
     "execution_count": 14,
     "metadata": {},
     "output_type": "execute_result"
    },
    {
     "data": {
      "image/png": "[encoded data removed]",
      "text/plain": [
       "<Figure size 864x576 with 4 Axes>"
      ]
     },
     "metadata": {
      "needs_background": "light"
     },
     "output_type": "display_data"
    }
   ],
   "source": [
    "#對數收益率的直方圖\n",
    "plt.rcParams['axes.unicode_minus']=False\n",
    "log_ret.hist(bins=100, figsize=(12, 8))"
   ]
  },
  {
   "cell_type": "code",
   "execution_count": null,
   "id": "767074f8",
   "metadata": {},
   "outputs": [],
   "source": []
  }
 ],
 "metadata": {
  "kernelspec": {
   "display_name": "Python 3",
   "language": "python",
   "name": "python3"
  },
  "language_info": {
   "codemirror_mode": {
    "name": "ipython",
    "version": 3
   },
   "file_extension": ".py",
   "mimetype": "text/x-python",
   "name": "python",
   "nbconvert_exporter": "python",
   "pygments_lexer": "ipython3",
   "version": "3.8.5"
  }
 },
 "nbformat": 4,
 "nbformat_minor": 5
}
