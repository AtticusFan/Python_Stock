{
 "cells": [
  {
   "cell_type": "code",
   "execution_count": 7,
   "id": "28195a51",
   "metadata": {},
   "outputs": [
    {
     "name": "stdout",
     "output_type": "stream",
     "text": [
      "X: [468 156 365 416 203 133 219 178 411 147 274 301 128 394 488 398 125 454\n",
      "  69 174]\n",
      "sort(X): [ 69 125 128 133 147 156 174 178 203 219 274 301 365 394 398 411 416 454\n",
      " 468 488]\n",
      "X的平均值: 275.05\n",
      "X的中位數: 246.5\n",
      "X的眾數 69\n",
      "X的第一四分位數(25%): 43.5\n",
      "X的第三四分位數(75%): 78.5\n"
     ]
    }
   ],
   "source": [
    "import numpy as np\n",
    "from scipy import stats\n",
    "X = np.random.randint(0,500,size = 20)\n",
    "print('X:',X)\n",
    "print('sort(X):',np.sort(X))\n",
    "print('X的平均值:',X.mean())\n",
    "print('X的中位數:',np.median(X))\n",
    "print('X的眾數:',stats.mode(X).mode[0])\n",
    "print('X的第一四分位數(25%):',np.percentile(x, 25))\n",
    "print('X的第三四分位數(75%):',np.percentile(x, 75))"
   ]
  },
  {
   "cell_type": "code",
   "execution_count": 17,
   "id": "5d4e523e",
   "metadata": {
    "scrolled": true
   },
   "outputs": [
    {
     "name": "stdout",
     "output_type": "stream",
     "text": [
      "全距: 80.0\n",
      "平均絕對偏差: 10.0\n",
      "變異數: 200.0\n",
      "標準差: 14.142135623730951\n"
     ]
    }
   ],
   "source": [
    "import pandas as pd\n",
    "Data = pd.Series([60,70,80,80,90,100])\n",
    "print('全距:',Data.mean())\n",
    "print('平均絕對偏差:',Data.mad())#當差值越大表示數據偏離均值越遠\n",
    "print('變異數:',Data.var())#描述數據的離散程度\n",
    "print('標準差:',Data.std())#變異數的平方根"
   ]
  },
  {
   "cell_type": "code",
   "execution_count": 23,
   "id": "5aced593",
   "metadata": {},
   "outputs": [
    {
     "name": "stdout",
     "output_type": "stream",
     "text": [
      "數據產生機率(由大到小):\n",
      "  1    0.3504\n",
      "3    0.2515\n",
      "4    0.1973\n",
      "2    0.1491\n",
      "5    0.0517\n",
      "dtype: float64\n"
     ]
    }
   ],
   "source": [
    "#隨機變數(不確定性事件的結果用數值來表示)\n",
    "import numpy as np\n",
    "import pandas as pd\n",
    "# p:每種數據發生的機率\n",
    "Data = np.random.choice([1,2,3,4,5], size=10000, p=[0.35,0.15,0.25,0.2,0.05])\n",
    "valueCount = pd.Series(Data).value_counts()\n",
    "print('數據產生機率(由大到小):\\n', valueCount/10000)\n"
   ]
  },
  {
   "cell_type": "code",
   "execution_count": 41,
   "id": "c2dd9996",
   "metadata": {},
   "outputs": [
    {
     "data": {
      "text/plain": [
       "2.317069058013523e-05"
      ]
     },
     "execution_count": 41,
     "metadata": {},
     "output_type": "execute_result"
    }
   ],
   "source": [
    "import numpy as np\n",
    "from scipy import stats\n",
    "#實驗次數  成功的機率  隨機產生的數\n",
    "np.random.binomial(100,0.5,30)\n",
    "#30次正面朝上的機率  擲100次  正面朝上的機率為0.5\n",
    "stats.binom.pmf(30,100,0.5)"
   ]
  }
 ],
 "metadata": {
  "kernelspec": {
   "display_name": "Python 3",
   "language": "python",
   "name": "python3"
  },
  "language_info": {
   "codemirror_mode": {
    "name": "ipython",
    "version": 3
   },
   "file_extension": ".py",
   "mimetype": "text/x-python",
   "name": "python",
   "nbconvert_exporter": "python",
   "pygments_lexer": "ipython3",
   "version": "3.8.5"
  }
 },
 "nbformat": 4,
 "nbformat_minor": 5
}
