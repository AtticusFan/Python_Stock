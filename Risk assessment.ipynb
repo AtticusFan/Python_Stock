{
 "cells": [
  {
   "cell_type": "code",
   "execution_count": null,
   "id": "a06a7606",
   "metadata": {},
   "outputs": [],
   "source": [
    "'''\n",
    "收益率：代表股票在一天交易中的價值變化百分比\n",
    "累計超額收益率：每隻股票在形成期內月超額收益率的簡單加總\n",
    "夏普指數：(平均年化報酬率-無風險利率)/年化標準差\n",
    "'''"
   ]
  },
  {
   "cell_type": "code",
   "execution_count": 21,
   "id": "5c7fe6d3",
   "metadata": {},
   "outputs": [
    {
     "data": {
      "text/html": [
       "<div>\n",
       "<style scoped>\n",
       "    .dataframe tbody tr th:only-of-type {\n",
       "        vertical-align: middle;\n",
       "    }\n",
       "\n",
       "    .dataframe tbody tr th {\n",
       "        vertical-align: top;\n",
       "    }\n",
       "\n",
       "    .dataframe thead th {\n",
       "        text-align: right;\n",
       "    }\n",
       "</style>\n",
       "<table border=\"1\" class=\"dataframe\">\n",
       "  <thead>\n",
       "    <tr style=\"text-align: right;\">\n",
       "      <th></th>\n",
       "      <th>High</th>\n",
       "      <th>Low</th>\n",
       "      <th>Open</th>\n",
       "      <th>Close</th>\n",
       "      <th>Volume</th>\n",
       "      <th>Adj Close</th>\n",
       "      <th>normalized_price</th>\n",
       "    </tr>\n",
       "    <tr>\n",
       "      <th>Date</th>\n",
       "      <th></th>\n",
       "      <th></th>\n",
       "      <th></th>\n",
       "      <th></th>\n",
       "      <th></th>\n",
       "      <th></th>\n",
       "      <th></th>\n",
       "    </tr>\n",
       "  </thead>\n",
       "  <tbody>\n",
       "    <tr>\n",
       "      <th>2010-05-03</th>\n",
       "      <td>62.599998</td>\n",
       "      <td>61.400002</td>\n",
       "      <td>62.599998</td>\n",
       "      <td>61.599998</td>\n",
       "      <td>22418000.0</td>\n",
       "      <td>41.438339</td>\n",
       "      <td>1.000000</td>\n",
       "    </tr>\n",
       "    <tr>\n",
       "      <th>2010-05-04</th>\n",
       "      <td>62.000000</td>\n",
       "      <td>60.799999</td>\n",
       "      <td>61.900002</td>\n",
       "      <td>61.000000</td>\n",
       "      <td>38039000.0</td>\n",
       "      <td>41.034729</td>\n",
       "      <td>0.990260</td>\n",
       "    </tr>\n",
       "    <tr>\n",
       "      <th>2010-05-05</th>\n",
       "      <td>60.200001</td>\n",
       "      <td>59.799999</td>\n",
       "      <td>59.900002</td>\n",
       "      <td>59.799999</td>\n",
       "      <td>93944000.0</td>\n",
       "      <td>40.227482</td>\n",
       "      <td>0.970779</td>\n",
       "    </tr>\n",
       "    <tr>\n",
       "      <th>2010-05-06</th>\n",
       "      <td>59.900002</td>\n",
       "      <td>59.200001</td>\n",
       "      <td>59.799999</td>\n",
       "      <td>59.500000</td>\n",
       "      <td>48824000.0</td>\n",
       "      <td>40.025669</td>\n",
       "      <td>0.965909</td>\n",
       "    </tr>\n",
       "    <tr>\n",
       "      <th>2010-05-07</th>\n",
       "      <td>60.099998</td>\n",
       "      <td>58.500000</td>\n",
       "      <td>58.599998</td>\n",
       "      <td>59.400002</td>\n",
       "      <td>61514000.0</td>\n",
       "      <td>39.958405</td>\n",
       "      <td>0.964286</td>\n",
       "    </tr>\n",
       "  </tbody>\n",
       "</table>\n",
       "</div>"
      ],
      "text/plain": [
       "                 High        Low       Open      Close      Volume  Adj Close  \\\n",
       "Date                                                                            \n",
       "2010-05-03  62.599998  61.400002  62.599998  61.599998  22418000.0  41.438339   \n",
       "2010-05-04  62.000000  60.799999  61.900002  61.000000  38039000.0  41.034729   \n",
       "2010-05-05  60.200001  59.799999  59.900002  59.799999  93944000.0  40.227482   \n",
       "2010-05-06  59.900002  59.200001  59.799999  59.500000  48824000.0  40.025669   \n",
       "2010-05-07  60.099998  58.500000  58.599998  59.400002  61514000.0  39.958405   \n",
       "\n",
       "            normalized_price  \n",
       "Date                          \n",
       "2010-05-03          1.000000  \n",
       "2010-05-04          0.990260  \n",
       "2010-05-05          0.970779  \n",
       "2010-05-06          0.965909  \n",
       "2010-05-07          0.964286  "
      ]
     },
     "execution_count": 21,
     "metadata": {},
     "output_type": "execute_result"
    }
   ],
   "source": [
    "import numpy as np\n",
    "import pandas as pd\n",
    "import pandas_datareader as pdr\n",
    "import matplotlib.pyplot as plt\n",
    "%matplotlib inline\n",
    "import seaborn as sns\n",
    "import datetime as datetime\n",
    "#抓取股票資料\n",
    "start = datetime.datetime(2010,5,1)\n",
    "df_2330 = pdr.DataReader('2330.TW', 'yahoo', start=start)\n",
    "df_2454 = pdr.DataReader('2454.TW', 'yahoo', start=start)\n",
    "df_2603 = pdr.DataReader('2603.TW', 'yahoo', start=start)\n",
    "df_2379 = pdr.DataReader('2379.TW', 'yahoo', start=start)\n",
    "#收盤價和第一天的收盤價的比較\n",
    "for stock in [df_2330, df_2454, df_2603, df_2379]:\n",
    "    stock['normalized_price']=stock['Adj Close']/stock['Adj Close'].iloc[0]\n",
    "\n",
    "df_2330.head()"
   ]
  },
  {
   "cell_type": "code",
   "execution_count": 23,
   "id": "a46de655",
   "metadata": {
    "scrolled": true
   },
   "outputs": [],
   "source": [
    "\n",
    "for stock, weight in zip([df_2330, df_2454, df_2603, df_2379],[0.3, 0.2, 0.25, 0.25]):\n",
    "    stock['weighted daily return']=stock['normalized_price']*weight\n",
    "\n",
    "    df_2603.head()"
   ]
  },
  {
   "cell_type": "code",
   "execution_count": 4,
   "id": "9ee25fc1",
   "metadata": {},
   "outputs": [
    {
     "data": {
      "text/html": [
       "<div>\n",
       "<style scoped>\n",
       "    .dataframe tbody tr th:only-of-type {\n",
       "        vertical-align: middle;\n",
       "    }\n",
       "\n",
       "    .dataframe tbody tr th {\n",
       "        vertical-align: top;\n",
       "    }\n",
       "\n",
       "    .dataframe thead th {\n",
       "        text-align: right;\n",
       "    }\n",
       "</style>\n",
       "<table border=\"1\" class=\"dataframe\">\n",
       "  <thead>\n",
       "    <tr style=\"text-align: right;\">\n",
       "      <th></th>\n",
       "      <th>2330</th>\n",
       "      <th>2454</th>\n",
       "      <th>2603</th>\n",
       "      <th>2379</th>\n",
       "    </tr>\n",
       "    <tr>\n",
       "      <th>Date</th>\n",
       "      <th></th>\n",
       "      <th></th>\n",
       "      <th></th>\n",
       "      <th></th>\n",
       "    </tr>\n",
       "  </thead>\n",
       "  <tbody>\n",
       "    <tr>\n",
       "      <th>2020-05-04</th>\n",
       "      <td>0.300000</td>\n",
       "      <td>0.200000</td>\n",
       "      <td>0.250000</td>\n",
       "      <td>0.250000</td>\n",
       "    </tr>\n",
       "    <tr>\n",
       "      <th>2020-05-05</th>\n",
       "      <td>0.300508</td>\n",
       "      <td>0.201001</td>\n",
       "      <td>0.247674</td>\n",
       "      <td>0.250000</td>\n",
       "    </tr>\n",
       "    <tr>\n",
       "      <th>2020-05-06</th>\n",
       "      <td>0.301017</td>\n",
       "      <td>0.204255</td>\n",
       "      <td>0.245349</td>\n",
       "      <td>0.251550</td>\n",
       "    </tr>\n",
       "    <tr>\n",
       "      <th>2020-05-07</th>\n",
       "      <td>0.302542</td>\n",
       "      <td>0.205757</td>\n",
       "      <td>0.246512</td>\n",
       "      <td>0.257748</td>\n",
       "    </tr>\n",
       "    <tr>\n",
       "      <th>2020-05-08</th>\n",
       "      <td>0.302542</td>\n",
       "      <td>0.206007</td>\n",
       "      <td>0.245349</td>\n",
       "      <td>0.258781</td>\n",
       "    </tr>\n",
       "  </tbody>\n",
       "</table>\n",
       "</div>"
      ],
      "text/plain": [
       "                2330      2454      2603      2379\n",
       "Date                                              \n",
       "2020-05-04  0.300000  0.200000  0.250000  0.250000\n",
       "2020-05-05  0.300508  0.201001  0.247674  0.250000\n",
       "2020-05-06  0.301017  0.204255  0.245349  0.251550\n",
       "2020-05-07  0.302542  0.205757  0.246512  0.257748\n",
       "2020-05-08  0.302542  0.206007  0.245349  0.258781"
      ]
     },
     "execution_count": 4,
     "metadata": {},
     "output_type": "execute_result"
    }
   ],
   "source": [
    "\n",
    "df_total=pd.concat([df_2330['weighted daily return'], df_2454['weighted daily return'], df_2603['weighted daily return'], df_2379['weighted daily return']],axis=1)\n",
    "df_total.columns=['2330', '2454', '2603', '2379']\n",
    "\n",
    "df_total.head()"
   ]
  },
  {
   "cell_type": "code",
   "execution_count": 5,
   "id": "892e548a",
   "metadata": {},
   "outputs": [
    {
     "data": {
      "text/html": [
       "<div>\n",
       "<style scoped>\n",
       "    .dataframe tbody tr th:only-of-type {\n",
       "        vertical-align: middle;\n",
       "    }\n",
       "\n",
       "    .dataframe tbody tr th {\n",
       "        vertical-align: top;\n",
       "    }\n",
       "\n",
       "    .dataframe thead th {\n",
       "        text-align: right;\n",
       "    }\n",
       "</style>\n",
       "<table border=\"1\" class=\"dataframe\">\n",
       "  <thead>\n",
       "    <tr style=\"text-align: right;\">\n",
       "      <th></th>\n",
       "      <th>2330</th>\n",
       "      <th>2454</th>\n",
       "      <th>2603</th>\n",
       "      <th>2379</th>\n",
       "      <th>Total Pos</th>\n",
       "    </tr>\n",
       "    <tr>\n",
       "      <th>Date</th>\n",
       "      <th></th>\n",
       "      <th></th>\n",
       "      <th></th>\n",
       "      <th></th>\n",
       "      <th></th>\n",
       "    </tr>\n",
       "  </thead>\n",
       "  <tbody>\n",
       "    <tr>\n",
       "      <th>2020-05-04</th>\n",
       "      <td>30000.000000</td>\n",
       "      <td>20000.000000</td>\n",
       "      <td>25000.000000</td>\n",
       "      <td>25000.000000</td>\n",
       "      <td>100000.000000</td>\n",
       "    </tr>\n",
       "    <tr>\n",
       "      <th>2020-05-05</th>\n",
       "      <td>30050.848383</td>\n",
       "      <td>20100.124193</td>\n",
       "      <td>24767.440973</td>\n",
       "      <td>25000.000000</td>\n",
       "      <td>99918.413549</td>\n",
       "    </tr>\n",
       "    <tr>\n",
       "      <th>2020-05-06</th>\n",
       "      <td>30101.693592</td>\n",
       "      <td>20425.531319</td>\n",
       "      <td>24534.884164</td>\n",
       "      <td>25154.957792</td>\n",
       "      <td>100217.066868</td>\n",
       "    </tr>\n",
       "    <tr>\n",
       "      <th>2020-05-07</th>\n",
       "      <td>30254.232393</td>\n",
       "      <td>20575.718386</td>\n",
       "      <td>24651.163678</td>\n",
       "      <td>25774.793831</td>\n",
       "      <td>101255.908288</td>\n",
       "    </tr>\n",
       "    <tr>\n",
       "      <th>2020-05-08</th>\n",
       "      <td>30254.232393</td>\n",
       "      <td>20600.749823</td>\n",
       "      <td>24534.884164</td>\n",
       "      <td>25878.099026</td>\n",
       "      <td>101267.965406</td>\n",
       "    </tr>\n",
       "  </tbody>\n",
       "</table>\n",
       "</div>"
      ],
      "text/plain": [
       "                    2330          2454          2603          2379  \\\n",
       "Date                                                                 \n",
       "2020-05-04  30000.000000  20000.000000  25000.000000  25000.000000   \n",
       "2020-05-05  30050.848383  20100.124193  24767.440973  25000.000000   \n",
       "2020-05-06  30101.693592  20425.531319  24534.884164  25154.957792   \n",
       "2020-05-07  30254.232393  20575.718386  24651.163678  25774.793831   \n",
       "2020-05-08  30254.232393  20600.749823  24534.884164  25878.099026   \n",
       "\n",
       "                Total Pos  \n",
       "Date                       \n",
       "2020-05-04  100000.000000  \n",
       "2020-05-05   99918.413549  \n",
       "2020-05-06  100217.066868  \n",
       "2020-05-07  101255.908288  \n",
       "2020-05-08  101267.965406  "
      ]
     },
     "execution_count": 5,
     "metadata": {},
     "output_type": "execute_result"
    }
   ],
   "source": [
    "#總收益\n",
    "df_total_money = df_total* 100000\n",
    "df_total_money['Total Pos']=df_total_money.sum(axis=1)\n",
    "df_total_money.head()"
   ]
  },
  {
   "cell_type": "code",
   "execution_count": 20,
   "id": "d44ede59",
   "metadata": {},
   "outputs": [
    {
     "data": {
      "text/plain": [
       "<matplotlib.legend.Legend at 0x1b33a097fd0>"
      ]
     },
     "execution_count": 20,
     "metadata": {},
     "output_type": "execute_result"
    },
    {
     "data": {
      "image/png": "[encoded data removed]",
      "text/plain": [
       "<Figure size 720x432 with 1 Axes>"
      ]
     },
     "metadata": {
      "needs_background": "light"
     },
     "output_type": "display_data"
    }
   ],
   "source": [
    "#總收益曲線表\n",
    "fig = plt.figure(figsize=(10, 6))\n",
    "plt.plot(df_total_money['Total Pos'], '-' , label=\"Total Revenue\")\n",
    "plt.plot(df_total_money['2330'], '-' , label=\"TSMC\")\n",
    "plt.plot(df_total_money['2454'], '-' , label=\"MTK\")\n",
    "plt.plot(df_total_money['2603'], '-' , label=\"Evergreen\")\n",
    "plt.plot(df_total_money['2379'], '-' , label=\"Realtek\")\n",
    "plt.title('Yield curve',loc='right')\n",
    "\n",
    "plt.xlabel('Date')\n",
    "plt.ylabel('Money')\n",
    "plt.grid(True, axis='y')\n",
    "plt.legend()"
   ]
  },
  {
   "cell_type": "code",
   "execution_count": 18,
   "id": "b6016269",
   "metadata": {},
   "outputs": [
    {
     "name": "stdout",
     "output_type": "stream",
     "text": [
      "累積收益率： 2.874034671900047\n",
      "平均收益率： 0.0054364342776260085\n",
      "收益率標準差： 0.021706318583966357\n",
      "夏普指數: 0.25045399829530274\n",
      "夏普值: 3.975833966106996\n"
     ]
    }
   ],
   "source": [
    "#日收益率\n",
    "df_total_money['daily return']=df_total_money['Total Pos'].pct_change()\n",
    "df_total_money['daily return'].head()\n",
    "#累積收益率\n",
    "print(\"累積收益率：\",df_total_money['Total Pos'].iloc[-1]/df_total_money['Total Pos'].iloc[0]-1)\n",
    "#平均收益率\n",
    "print(\"平均收益率：\",df_total_money['daily return'].mean())\n",
    "#收益率標準差\n",
    "print(\"收益率標準差：\",df_total_money['daily return'].std())\n",
    "#夏普指數(每增加1%的風險可換來__%的收益)\n",
    "SR=df_total_money['daily return'].mean()/df_total_money['daily return'].std()\n",
    "print(\"夏普指數:\",SR)\n",
    "ASR=np.sqrt(252)*SR\n",
    "print(\"夏普值:\",ASR)"
   ]
  },
  {
   "cell_type": "code",
   "execution_count": 13,
   "id": "7ea967ba",
   "metadata": {},
   "outputs": [
    {
     "name": "stderr",
     "output_type": "stream",
     "text": [
      "C:\\Users\\user\\anaconda3\\lib\\site-packages\\seaborn\\distributions.py:2557: FutureWarning: `distplot` is a deprecated function and will be removed in a future version. Please adapt your code to use either `displot` (a figure-level function with similar flexibility) or `histplot` (an axes-level function for histograms).\n",
      "  warnings.warn(msg, FutureWarning)\n"
     ]
    },
    {
     "data": {
      "text/plain": [
       "<matplotlib.legend.Legend at 0x1b339cfaac0>"
      ]
     },
     "execution_count": 13,
     "metadata": {},
     "output_type": "execute_result"
    },
    {
     "data": {
      "image/png": "[encoded data removed]",
      "text/plain": [
       "<Figure size 720x432 with 1 Axes>"
      ]
     },
     "metadata": {
      "needs_background": "light"
     },
     "output_type": "display_data"
    }
   ],
   "source": [
    "#用密度圖顯示日收益率\n",
    "plt.rcParams['axes.unicode_minus']=False\n",
    "fig = plt.figure(figsize=(10, 6))\n",
    "sns.distplot(df_total_money['daily return'].dropna(),bins=100, label=\"Total Revenue\")\n",
    "plt.legend()"
   ]
  },
  {
   "cell_type": "code",
   "execution_count": null,
   "id": "90a433be",
   "metadata": {},
   "outputs": [],
   "source": []
  }
 ],
 "metadata": {
  "kernelspec": {
   "display_name": "Python 3",
   "language": "python",
   "name": "python3"
  },
  "language_info": {
   "codemirror_mode": {
    "name": "ipython",
    "version": 3
   },
   "file_extension": ".py",
   "mimetype": "text/x-python",
   "name": "python",
   "nbconvert_exporter": "python",
   "pygments_lexer": "ipython3",
   "version": "3.8.5"
  }
 },
 "nbformat": 4,
 "nbformat_minor": 5
}
